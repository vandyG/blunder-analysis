{
 "cells": [
  {
   "cell_type": "code",
   "execution_count": 2,
   "id": "18171a3d",
   "metadata": {},
   "outputs": [],
   "source": [
    "import io\n",
    "from os import environ\n",
    "from pathlib import Path\n",
    "\n",
    "import chess\n",
    "import chess.engine\n",
    "import chess.pgn\n",
    "\n",
    "from blunder._internal import pipeline\n"
   ]
  },
  {
   "cell_type": "code",
   "execution_count": 3,
   "id": "ed2f1e21",
   "metadata": {},
   "outputs": [],
   "source": [
    "pgn = \"\"\"\n",
    "[Event \"Rated Bullet tournament https://lichess.org/tournament/yc1WW2Ox\"]\n",
    "[Site \"https://lichess.org/PpwPOZMq\"]\n",
    "[Date \"2017.04.01\"]\n",
    "[Round \"-\"]\n",
    "[White \"Abbot\"]\n",
    "[Black \"Costello\"]\n",
    "[Result \"0-1\"]\n",
    "[UTCDate \"2017.04.01\"]\n",
    "[UTCTime \"11:32:01\"]\n",
    "[WhiteElo \"2100\"]\n",
    "[BlackElo \"2000\"]\n",
    "[WhiteRatingDiff \"-4\"]\n",
    "[BlackRatingDiff \"+1\"]\n",
    "[WhiteTitle \"FM\"]\n",
    "[ECO \"B30\"]\n",
    "[Opening \"Sicilian Defense: Old Sicilian\"]\n",
    "[TimeControl \"300+0\"]\n",
    "[Termination \"Time forfeit\"]\n",
    "\n",
    "1. e4 { [%eval 0.17] [%clk 0:00:30] } 1... c5 { [%eval 0.19] [%clk 0:00:30] }\n",
    "2. Nf3 { [%eval 0.25] [%clk 0:00:29] } 2... Nc6 { [%eval 0.33] [%clk 0:00:30] }\n",
    "3. Bc4 { [%eval -0.13] [%clk 0:00:28] } 3... e6 { [%eval -0.04] [%clk 0:00:30] }\n",
    "4. c3 { [%eval -0.4] [%clk 0:00:27] } 4... b5? { [%eval 1.18] [%clk 0:00:30] }\n",
    "5. Bb3?! { [%eval 0.21] [%clk 0:00:26] } 5... c4 { [%eval 0.32] [%clk 0:00:29] }\n",
    "6. Bc2 { [%eval 0.2] [%clk 0:00:25] } 6... a5 { [%eval 0.6] [%clk 0:00:29] }\n",
    "7. d4 { [%eval 0.29] [%clk 0:00:23] } 7... cxd3 { [%eval 0.6] [%clk 0:00:27] }\n",
    "8. Qxd3 { [%eval 0.12] [%clk 0:00:22] } 8... Nf6 { [%eval 0.52] [%clk 0:00:26] }\n",
    "9. e5 { [%eval 0.39] [%clk 0:00:21] } 9... Nd5 { [%eval 0.45] [%clk 0:00:25] }\n",
    "10. Bg5?! { [%eval -0.44] [%clk 0:00:18] } 10... Qc7 { [%eval -0.12] [%clk 0:00:23] }\n",
    "11. Nbd2?? { [%eval -3.15] [%clk 0:00:14] } 11... h6 { [%eval -2.99] [%clk 0:00:23] }\n",
    "12. Bh4 { [%eval -3.0] [%clk 0:00:11] } 12... Ba6? { [%eval -0.12] [%clk 0:00:23] }\n",
    "13. b3?? { [%eval -4.14] [%clk 0:00:02] } 13... Nf4? { [%eval -2.73] [%clk 0:00:21] } 0-1\n",
    "\"\"\""
   ]
  },
  {
   "cell_type": "code",
   "execution_count": 4,
   "id": "249af677",
   "metadata": {},
   "outputs": [],
   "source": [
    "game = chess.pgn.read_game(io.StringIO(pgn))"
   ]
  },
  {
   "cell_type": "code",
   "execution_count": null,
   "id": "feff2c2d",
   "metadata": {},
   "outputs": [
    {
     "name": "stdout",
     "output_type": "stream",
     "text": [
      "Headers(Event='Rated Bullet tournament https://lichess.org/tournament/yc1WW2Ox', Site='https://lichess.org/PpwPOZMq', Date='2017.04.01', Round='-', White='Abbot', Black='Costello', Result='0-1', UTCDate='2017.04.01', UTCTime='11:32:01', WhiteElo='2100', BlackElo='2000', WhiteRatingDiff='-4', BlackRatingDiff='+1', WhiteTitle='FM', ECO='B30', Opening='Sicilian Defense: Old Sicilian', TimeControl='300+0', Termination='Time forfeit')\n"
     ]
    }
   ],
   "source": [
    "game.headers"
   ]
  },
  {
   "cell_type": "code",
   "execution_count": 33,
   "id": "88d6248e",
   "metadata": {},
   "outputs": [],
   "source": [
    "engine_path = environ.get(\"STOCKFISH_PATH\", \"\")\n",
    "engine_config = pipeline.EngineConfig(executable_path=Path(engine_path))\n",
    "\n",
    "engine = chess.engine.SimpleEngine.popen_uci(engine_path)"
   ]
  },
  {
   "cell_type": "code",
   "execution_count": 34,
   "id": "b2a625d2",
   "metadata": {},
   "outputs": [],
   "source": [
    "engine_config.config_hash_mb = 256\n",
    "engine_config.config_threads = 2\n",
    "engine_config.limit_depth = 14"
   ]
  },
  {
   "cell_type": "code",
   "execution_count": 35,
   "id": "7fd4c22d",
   "metadata": {},
   "outputs": [],
   "source": [
    "engine.configure({\"Threads\": engine_config.config_threads, \"Hash\": engine_config.config_hash_mb, \"UCI_ShowWDL\": engine_config.config_show_wdl})"
   ]
  },
  {
   "cell_type": "code",
   "execution_count": null,
   "id": "4708b48c",
   "metadata": {},
   "outputs": [],
   "source": [
    "\n",
    "board = chess.Board()\n",
    "node = game\n",
    "\n",
    "while node:\n",
    "\n",
    "    if node.move is not None:\n",
    "        board.push(node.move)\n",
    "        # print(f\"Move: {node.move.uci()}\\n\")\n",
    "\n",
    "    # print(board)\n",
    "    # print(\"\\n\")\n",
    "\n",
    "    # info = engine.analyse(\n",
    "    #     board,\n",
    "    #     chess.engine.Limit(depth=engine_config.limit_depth),\n",
    "    #     info=engine_config.limit_info,\n",
    "    # )\n",
    "    # # Safely access the optional 'score' key from the info dict\n",
    "    # score_info = info.get(\"score\")\n",
    "\n",
    "    # if score_info is not None:\n",
    "    #     score = score_info.white()\n",
    "    # else:\n",
    "    #     # print(\"Score: N/A\\n\")\n",
    "\n",
    "    node = node.next()\n"
   ]
  },
  {
   "cell_type": "code",
   "execution_count": 40,
   "id": "7988d652",
   "metadata": {},
   "outputs": [
    {
     "name": "stdout",
     "output_type": "stream",
     "text": [
      "None\n"
     ]
    }
   ],
   "source": [
    "print(game.eval())"
   ]
  },
  {
   "cell_type": "code",
   "execution_count": 15,
   "id": "7fe030dc",
   "metadata": {},
   "outputs": [
    {
     "data": {
      "text/plain": [
       "{'string': 'NNUE evaluation using nn-37f18f62d772.nnue (6MiB, (22528, 128, 15, 32, 1))',\n",
       " 'depth': 14,\n",
       " 'seldepth': 19,\n",
       " 'multipv': 1,\n",
       " 'score': PovScore(Cp(-659), BLACK),\n",
       " 'wdl': PovWdl(Wdl(wins=0, draws=0, losses=1000), BLACK),\n",
       " 'nodes': 15314,\n",
       " 'nps': 2187714,\n",
       " 'hashfull': 5,\n",
       " 'tbhits': 0,\n",
       " 'time': 0.007}"
      ]
     },
     "execution_count": 15,
     "metadata": {},
     "output_type": "execute_result"
    }
   ],
   "source": [
    "info"
   ]
  },
  {
   "cell_type": "code",
   "execution_count": 19,
   "id": "80547a86",
   "metadata": {},
   "outputs": [
    {
     "ename": "EngineTerminatedError",
     "evalue": "engine event loop dead",
     "output_type": "error",
     "traceback": [
      "\u001b[31m---------------------------------------------------------------------------\u001b[39m",
      "\u001b[31mEngineTerminatedError\u001b[39m                     Traceback (most recent call last)",
      "\u001b[36mCell\u001b[39m\u001b[36m \u001b[39m\u001b[32mIn[19]\u001b[39m\u001b[32m, line 1\u001b[39m\n\u001b[32m----> \u001b[39m\u001b[32m1\u001b[39m \u001b[43mengine\u001b[49m\u001b[43m.\u001b[49m\u001b[43mquit\u001b[49m\u001b[43m(\u001b[49m\u001b[43m)\u001b[49m\n",
      "\u001b[36mFile \u001b[39m\u001b[32m~/Work/MATH6310/blunder-analysis/.venv/lib/python3.13/site-packages/chess/engine.py:3011\u001b[39m, in \u001b[36mSimpleEngine.quit\u001b[39m\u001b[34m(self)\u001b[39m\n\u001b[32m   3010\u001b[39m \u001b[38;5;28;01mdef\u001b[39;00m\u001b[38;5;250m \u001b[39m\u001b[34mquit\u001b[39m(\u001b[38;5;28mself\u001b[39m) -> \u001b[38;5;28;01mNone\u001b[39;00m:\n\u001b[32m-> \u001b[39m\u001b[32m3011\u001b[39m \u001b[43m    \u001b[49m\u001b[38;5;28;43;01mwith\u001b[39;49;00m\u001b[43m \u001b[49m\u001b[38;5;28;43mself\u001b[39;49m\u001b[43m.\u001b[49m\u001b[43m_not_shut_down\u001b[49m\u001b[43m(\u001b[49m\u001b[43m)\u001b[49m\u001b[43m:\u001b[49m\n\u001b[32m   3012\u001b[39m \u001b[43m        \u001b[49m\u001b[43mcoro\u001b[49m\u001b[43m \u001b[49m\u001b[43m=\u001b[49m\u001b[43m \u001b[49m\u001b[43masyncio\u001b[49m\u001b[43m.\u001b[49m\u001b[43mwait_for\u001b[49m\u001b[43m(\u001b[49m\u001b[38;5;28;43mself\u001b[39;49m\u001b[43m.\u001b[49m\u001b[43mprotocol\u001b[49m\u001b[43m.\u001b[49m\u001b[43mquit\u001b[49m\u001b[43m(\u001b[49m\u001b[43m)\u001b[49m\u001b[43m,\u001b[49m\u001b[43m \u001b[49m\u001b[38;5;28;43mself\u001b[39;49m\u001b[43m.\u001b[49m\u001b[43mtimeout\u001b[49m\u001b[43m)\u001b[49m\n\u001b[32m   3013\u001b[39m \u001b[43m        \u001b[49m\u001b[43mfuture\u001b[49m\u001b[43m \u001b[49m\u001b[43m=\u001b[49m\u001b[43m \u001b[49m\u001b[43masyncio\u001b[49m\u001b[43m.\u001b[49m\u001b[43mrun_coroutine_threadsafe\u001b[49m\u001b[43m(\u001b[49m\u001b[43mcoro\u001b[49m\u001b[43m,\u001b[49m\u001b[43m \u001b[49m\u001b[38;5;28;43mself\u001b[39;49m\u001b[43m.\u001b[49m\u001b[43mprotocol\u001b[49m\u001b[43m.\u001b[49m\u001b[43mloop\u001b[49m\u001b[43m)\u001b[49m\n",
      "\u001b[36mFile \u001b[39m\u001b[32m/nix/store/62fdlzq1x1ak2lsxp4ij7ip5k9nia3hc-python3-3.13.7/lib/python3.13/contextlib.py:141\u001b[39m, in \u001b[36m_GeneratorContextManager.__enter__\u001b[39m\u001b[34m(self)\u001b[39m\n\u001b[32m    139\u001b[39m \u001b[38;5;28;01mdel\u001b[39;00m \u001b[38;5;28mself\u001b[39m.args, \u001b[38;5;28mself\u001b[39m.kwds, \u001b[38;5;28mself\u001b[39m.func\n\u001b[32m    140\u001b[39m \u001b[38;5;28;01mtry\u001b[39;00m:\n\u001b[32m--> \u001b[39m\u001b[32m141\u001b[39m     \u001b[38;5;28;01mreturn\u001b[39;00m \u001b[38;5;28;43mnext\u001b[39;49m\u001b[43m(\u001b[49m\u001b[38;5;28;43mself\u001b[39;49m\u001b[43m.\u001b[49m\u001b[43mgen\u001b[49m\u001b[43m)\u001b[49m\n\u001b[32m    142\u001b[39m \u001b[38;5;28;01mexcept\u001b[39;00m \u001b[38;5;167;01mStopIteration\u001b[39;00m:\n\u001b[32m    143\u001b[39m     \u001b[38;5;28;01mraise\u001b[39;00m \u001b[38;5;167;01mRuntimeError\u001b[39;00m(\u001b[33m\"\u001b[39m\u001b[33mgenerator didn\u001b[39m\u001b[33m'\u001b[39m\u001b[33mt yield\u001b[39m\u001b[33m\"\u001b[39m) \u001b[38;5;28;01mfrom\u001b[39;00m\u001b[38;5;250m \u001b[39m\u001b[38;5;28;01mNone\u001b[39;00m\n",
      "\u001b[36mFile \u001b[39m\u001b[32m~/Work/MATH6310/blunder-analysis/.venv/lib/python3.13/site-packages/chess/engine.py:2931\u001b[39m, in \u001b[36mSimpleEngine._not_shut_down\u001b[39m\u001b[34m(self)\u001b[39m\n\u001b[32m   2929\u001b[39m \u001b[38;5;28;01mwith\u001b[39;00m \u001b[38;5;28mself\u001b[39m._shutdown_lock:\n\u001b[32m   2930\u001b[39m     \u001b[38;5;28;01mif\u001b[39;00m \u001b[38;5;28mself\u001b[39m._shutdown:\n\u001b[32m-> \u001b[39m\u001b[32m2931\u001b[39m         \u001b[38;5;28;01mraise\u001b[39;00m EngineTerminatedError(\u001b[33m\"\u001b[39m\u001b[33mengine event loop dead\u001b[39m\u001b[33m\"\u001b[39m)\n\u001b[32m   2932\u001b[39m     \u001b[38;5;28;01myield\u001b[39;00m\n",
      "\u001b[31mEngineTerminatedError\u001b[39m: engine event loop dead"
     ]
    }
   ],
   "source": [
    "engine.quit()"
   ]
  }
 ],
 "metadata": {
  "kernelspec": {
   "display_name": "blunder-analysis",
   "language": "python",
   "name": "python3"
  },
  "language_info": {
   "codemirror_mode": {
    "name": "ipython",
    "version": 3
   },
   "file_extension": ".py",
   "mimetype": "text/x-python",
   "name": "python",
   "nbconvert_exporter": "python",
   "pygments_lexer": "ipython3",
   "version": "3.13.7"
  }
 },
 "nbformat": 4,
 "nbformat_minor": 5
}
