{
 "cells": [
  {
   "cell_type": "code",
   "execution_count": 1,
   "id": "38edfb8d",
   "metadata": {},
   "outputs": [],
   "source": [
    "import io\n",
    "import os\n",
    "from concurrent.futures import ProcessPoolExecutor, as_completed\n",
    "\n",
    "import chess\n",
    "import chess.pgn\n"
   ]
  },
  {
   "cell_type": "code",
   "execution_count": 2,
   "id": "a4956f87",
   "metadata": {},
   "outputs": [],
   "source": [
    "pgn_file = \"/home/vandy/Work/MATH6310/blunder-analysis/data/raw/lichess_db_standard_rated_2025-08.pgn\""
   ]
  },
  {
   "cell_type": "code",
   "execution_count": 3,
   "id": "3bd60f1f",
   "metadata": {},
   "outputs": [],
   "source": [
    "def stream_games(pgn_path):\n",
    "    \"\"\"Stream raw PGN game texts from file. Yields one game's full text (string) at a time.\n",
    "\n",
    "    Heuristic: a game contains tag-pairs (lines starting with '[') and moves.\n",
    "    A blank line after tags+moves marks the boundary.\n",
    "    \"\"\"\n",
    "    with open(pgn_path, encoding=\"utf-8\", errors=\"replace\") as f:\n",
    "        buf = []\n",
    "        seen_tag = False\n",
    "        seen_move = False\n",
    "        for line in f:\n",
    "            buf.append(line)\n",
    "            if line.startswith(\"[\"):\n",
    "                seen_tag = True\n",
    "            elif line.strip() == \"\":\n",
    "                # blank line potentially ends a game\n",
    "                if seen_tag and seen_move:\n",
    "                    yield \"\".join(buf)\n",
    "                    buf = []\n",
    "                    seen_tag = False\n",
    "                    seen_move = False\n",
    "            # non-empty non-tag line -> move text (or comments)\n",
    "            elif not line.startswith(\"[\"):\n",
    "                seen_move = True\n",
    "        # EOF: if any buffered lines, yield them as last game\n",
    "        if buf:\n",
    "            yield \"\".join(buf)"
   ]
  },
  {
   "cell_type": "code",
   "execution_count": 4,
   "id": "4f844414",
   "metadata": {},
   "outputs": [],
   "source": [
    "def stream_chunks(pgn_path, chunk_size_bytes=8 * 1024 * 1024) -> str:\n",
    "    \"\"\"Yield PGN text chunks sized for parallel parsing without splitting games.\"\"\"\n",
    "    if chunk_size_bytes <= 0:\n",
    "        raise ValueError(\"chunk_size_bytes must be positive\")\n",
    "    with open(pgn_path, encoding=\"utf-8\", errors=\"replace\") as f:\n",
    "        buffer = []\n",
    "        size_acc = 0\n",
    "        for line in f:\n",
    "            buffer.append(line)\n",
    "            size_acc += len(line.encode(\"utf-8\"))\n",
    "            if size_acc >= chunk_size_bytes and line.strip() == \"\":\n",
    "                yield \"\".join(buffer)\n",
    "                buffer = []\n",
    "                size_acc = 0\n",
    "        if buffer:\n",
    "            yield \"\".join(buffer)\n",
    "\n",
    "\n",
    "def chunk_to_games(chunk_text):\n",
    "    \"\"\"Split a chunk of PGN text into complete game strings.\"\"\"\n",
    "    games = []\n",
    "    buf = []\n",
    "    seen_tag = False\n",
    "    seen_move = False\n",
    "    for line in chunk_text.splitlines(keepends=True):\n",
    "        buf.append(line)\n",
    "        if line.startswith(\"[\"):\n",
    "            seen_tag = True\n",
    "        elif line.strip() == \"\":\n",
    "            if seen_tag and seen_move:\n",
    "                games.append(\"\".join(buf))\n",
    "                buf = []\n",
    "                seen_tag = False\n",
    "                seen_move = False\n",
    "        else:\n",
    "            seen_move = True\n",
    "    if buf and \"\".join(buf).strip():\n",
    "        games.append(\"\".join(buf))\n",
    "    return games\n",
    "\n",
    "\n",
    "def parse_game_text(game_text):\n",
    "    \"\"\"Worker: parse a single game PGN text and return a small summary dict.\n",
    "\n",
    "    Keep it small to reduce pickling cost.\n",
    "    \"\"\"\n",
    "    try:\n",
    "        game = chess.pgn.read_game(io.StringIO(game_text))\n",
    "        if game is None:\n",
    "            return None\n",
    "        headers = dict(game.headers)\n",
    "        # count moves\n",
    "        move_count = sum(1 for _ in game.mainline_moves())\n",
    "        return {\n",
    "            \"Event\": headers.get(\"Event\"),\n",
    "            \"White\": headers.get(\"White\"),\n",
    "            \"Black\": headers.get(\"Black\"),\n",
    "            \"Result\": headers.get(\"Result\"),\n",
    "            \"Moves\": move_count,\n",
    "        }\n",
    "    except Exception as e:\n",
    "        # return minimal error info, or you can log to file\n",
    "        return {\"error\": str(e)}\n",
    "\n",
    "\n",
    "def parse_chunk(chunk_text):\n",
    "    \"\"\"Worker helper: parse every game in a chunk.\"\"\"\n",
    "    return parse_batch(chunk_to_games(chunk_text))\n",
    "\n",
    "\n",
    "def process_pgn_parallel(pgn_path, max_workers=None, chunk_size_bytes=8 * 1024 * 1024, max_games=10_000):\n",
    "    \"\"\"Read games from pgn_path and parse them in parallel by chunk.\"\"\"\n",
    "    results = []\n",
    "    max_workers = max_workers or max(1, os.cpu_count() - 1)\n",
    "    with ProcessPoolExecutor(max_workers=max_workers) as executor:\n",
    "        futures = []\n",
    "        for chunk in stream_chunks(pgn_path, chunk_size_bytes=chunk_size_bytes):\n",
    "            futures.append(executor.submit(parse_chunk, chunk))\n",
    "        stop = False\n",
    "        for fut in as_completed(futures):\n",
    "            chunk_results = fut.result()\n",
    "            for record in chunk_results:\n",
    "                if record is None:\n",
    "                    continue\n",
    "                results.append(record)\n",
    "                if len(results) >= max_games:\n",
    "                    stop = True\n",
    "                    break\n",
    "            if stop:\n",
    "                break\n",
    "        if stop:\n",
    "            for fut in futures:\n",
    "                if not fut.done():\n",
    "                    fut.cancel()\n",
    "    return results[:max_games]\n",
    "\n",
    "\n",
    "def parse_batch(game_texts):\n",
    "    \"\"\"Helper executed in worker process: parse a list of game texts.\"\"\"\n",
    "    out = []\n",
    "    for gt in game_texts:\n",
    "        out.append(parse_game_text(gt))\n",
    "    return out\n",
    "\n",
    "\n",
    "def parse_games_to_records(game_summaries):\n",
    "    \"\"\"Dummy hook: convert parsed game summaries into DB-ready records.\"\"\"\n",
    "    return game_summaries\n",
    "\n",
    "\n",
    "def load_records_to_db(records, connection_params=None):\n",
    "    \"\"\"Dummy hook: persist records into a database.\"\"\"\n",
    "    return len(records)\n",
    "\n",
    "\n",
    "# summaries = process_pgn_parallel(pgn_file, max_workers=6, max_games=10_000)\n",
    "# Example: count games and aggregate results\n",
    "# print(f\"Parsed {len(summaries)} games\")\n",
    "# # e.g. count results\n",
    "\n",
    "# c = Counter(s.get(\"Result\") for s in summaries)\n",
    "# print(c)"
   ]
  },
  {
   "cell_type": "code",
   "execution_count": 5,
   "id": "e94fa724",
   "metadata": {},
   "outputs": [
    {
     "data": {
      "text/plain": [
       "'/home/vandy/Work/MATH6310/blunder-analysis/data/raw/lichess_db_standard_rated_2025-08.pgn'"
      ]
     },
     "execution_count": 5,
     "metadata": {},
     "output_type": "execute_result"
    }
   ],
   "source": [
    "pgn_file"
   ]
  },
  {
   "cell_type": "code",
   "execution_count": null,
   "id": "5dda4685",
   "metadata": {},
   "outputs": [
    {
     "name": "stdout",
     "output_type": "stream",
     "text": [
      "Total Games Processed: 100001\n",
      "CPU times: user 1min 56s, sys: 155 ms, total: 1min 56s\n",
      "Wall time: 1min 56s\n"
     ]
    }
   ],
   "source": [
    "%%time\n",
    "i = 0\n",
    "events = set()\n",
    "for game in stream_games(pgn_file):\n",
    "    game_text = parse_game_text(game)\n",
    "    events.add(game_text.get(\"Event\"))\n",
    "    i += 1\n",
    "\n",
    "    if i > 100000:\n",
    "        break\n",
    "\n",
    "print(f\"Total Games Processed: {i}\")"
   ]
  },
  {
   "cell_type": "code",
   "execution_count": null,
   "id": "7f2ab140",
   "metadata": {},
   "outputs": [],
   "source": [
    "MAX_GAMES = 100000\n",
    "results = []\n",
    "max_workers = max(1, os.cpu_count() - 1)\n",
    "chunk_iter = stream_chunks(pgn_file, chunk_size_bytes=8 * 1024 * 1024)\n",
    "with ProcessPoolExecutor(max_workers=max_workers) as executor:\n",
    "    in_flight = set()\n",
    "\n",
    "    def submit_next_chunk():\n",
    "        try:\n",
    "            chunk = next(chunk_iter)\n",
    "        except StopIteration:\n",
    "            return False\n",
    "        future = executor.submit(parse_chunk, chunk)\n",
    "        in_flight.add(future)\n",
    "        return True\n",
    "\n",
    "    for _ in range(max_workers):\n",
    "        if not submit_next_chunk():\n",
    "            break\n",
    "\n",
    "    stop = False\n",
    "    while in_flight:\n",
    "        fut = next(as_completed(in_flight))\n",
    "        in_flight.remove(fut)\n",
    "        chunk_results = fut.result()\n",
    "        for record in chunk_results:\n",
    "            if record is None:\n",
    "                continue\n",
    "            results.append(record)\n",
    "            if len(results) >= MAX_GAMES:\n",
    "                stop = True\n",
    "                break\n",
    "        if stop:\n",
    "            break\n",
    "        submit_next_chunk()\n",
    "\n",
    "    if stop:\n",
    "        for fut in in_flight:\n",
    "            if not fut.done():\n",
    "                fut.cancel()\n",
    "results = results[:MAX_GAMES]"
   ]
  },
  {
   "cell_type": "code",
   "execution_count": 12,
   "id": "16fd9ae4",
   "metadata": {},
   "outputs": [
    {
     "data": {
      "text/plain": [
       "100000"
      ]
     },
     "execution_count": 12,
     "metadata": {},
     "output_type": "execute_result"
    }
   ],
   "source": [
    "len(results)"
   ]
  },
  {
   "cell_type": "code",
   "execution_count": 15,
   "id": "53c072ad",
   "metadata": {},
   "outputs": [],
   "source": [
    "# ...existing code...\n",
    "def stream_chunks2(pgn_path, chunk_size_bytes=8 * 1024 * 1024):\n",
    "    \"\"\"Yield PGN text chunks sized for parallel parsing without splitting games.\"\"\"\n",
    "    if chunk_size_bytes <= 0:\n",
    "        raise ValueError(\"chunk_size_bytes must be positive\")\n",
    "    with open(pgn_path, encoding=\"utf-8\", errors=\"replace\") as f:\n",
    "        buffer = []\n",
    "        size_acc = 0\n",
    "        seen_tag = False\n",
    "        seen_move = False\n",
    "        for line in f:\n",
    "            buffer.append(line)\n",
    "            size_acc += len(line.encode(\"utf-8\"))\n",
    "            if line.startswith(\"[\"):\n",
    "                seen_tag = True\n",
    "            elif line.strip() == \"\":\n",
    "                # only cut if we've seen a complete game (tags + moves)\n",
    "                if size_acc >= chunk_size_bytes and seen_tag and seen_move:\n",
    "                    yield \"\".join(buffer)\n",
    "                    buffer = []\n",
    "                    size_acc = 0\n",
    "                    seen_tag = False\n",
    "                    seen_move = False\n",
    "            # non-empty non-tag line => moves (or comments)\n",
    "            elif not line.startswith(\"[\"):\n",
    "                seen_move = True\n",
    "        if buffer:\n",
    "            yield \"\".join(buffer)\n",
    "\n",
    "\n",
    "# ...existing code..."
   ]
  },
  {
   "cell_type": "code",
   "execution_count": 43,
   "id": "015c3126",
   "metadata": {},
   "outputs": [],
   "source": [
    "chunk_iter = stream_chunks(pgn_file, chunk_size_bytes=8 * 1024 * 1024)\n",
    "chunk_iter2 = stream_chunks2(pgn_file, chunk_size_bytes=8 * 1024 * 1024)"
   ]
  },
  {
   "cell_type": "code",
   "execution_count": 50,
   "id": "77bcdf51",
   "metadata": {},
   "outputs": [
    {
     "data": {
      "text/plain": [
       "['[Termination \"Time forfeit\"]\\n', '\\n']"
      ]
     },
     "execution_count": 50,
     "metadata": {},
     "output_type": "execute_result"
    }
   ],
   "source": [
    "next(chunk_iter2).splitlines(keepends=True)[-2:]\n"
   ]
  },
  {
   "cell_type": "code",
   "execution_count": 51,
   "id": "c1e72526",
   "metadata": {},
   "outputs": [
    {
     "data": {
      "text/plain": [
       "{'Blitz swiss https://lichess.org/swiss/2YtVa2l2',\n",
       " 'Blitz swiss https://lichess.org/swiss/5P80WKBV',\n",
       " 'Blitz swiss https://lichess.org/swiss/ACHYV6sJ',\n",
       " 'Blitz swiss https://lichess.org/swiss/AZIRf2ev',\n",
       " 'Blitz swiss https://lichess.org/swiss/AbevL0Q9',\n",
       " 'Blitz swiss https://lichess.org/swiss/BBzlRwQD',\n",
       " 'Blitz swiss https://lichess.org/swiss/Gnpu9Apt',\n",
       " 'Blitz swiss https://lichess.org/swiss/MFUUIgH4',\n",
       " 'Blitz swiss https://lichess.org/swiss/MhzSBSXH',\n",
       " 'Blitz swiss https://lichess.org/swiss/Qv6afZ0z',\n",
       " 'Blitz swiss https://lichess.org/swiss/VxZrwpC5',\n",
       " 'Blitz swiss https://lichess.org/swiss/ZAAcAy8B',\n",
       " 'Blitz swiss https://lichess.org/swiss/mIbOfMJP',\n",
       " 'Blitz swiss https://lichess.org/swiss/r0rkgfqy',\n",
       " 'Blitz swiss https://lichess.org/swiss/ym1dmEas',\n",
       " 'Bullet swiss https://lichess.org/swiss/KtR4gySL',\n",
       " 'Bullet swiss https://lichess.org/swiss/LsNw6aHy',\n",
       " 'Bullet swiss https://lichess.org/swiss/fAVl6Fb3',\n",
       " 'Bullet swiss https://lichess.org/swiss/qrlLuyEU',\n",
       " 'Classical swiss https://lichess.org/swiss/Y5TtEXTS',\n",
       " 'Classical swiss https://lichess.org/swiss/bEjdeeDW',\n",
       " 'Rapid swiss https://lichess.org/swiss/4UYM7LPz',\n",
       " 'Rapid swiss https://lichess.org/swiss/8I9ZQbFc',\n",
       " 'Rapid swiss https://lichess.org/swiss/AwehGBC7',\n",
       " 'Rapid swiss https://lichess.org/swiss/CZ3aIT0P',\n",
       " 'Rapid swiss https://lichess.org/swiss/GztX9mZ9',\n",
       " 'Rapid swiss https://lichess.org/swiss/HjQ8ppJm',\n",
       " 'Rapid swiss https://lichess.org/swiss/MwGe6Gaq',\n",
       " 'Rapid swiss https://lichess.org/swiss/Pa6Ovkam',\n",
       " 'Rapid swiss https://lichess.org/swiss/VSAmiGyd',\n",
       " 'Rapid swiss https://lichess.org/swiss/WdeE5fYB',\n",
       " 'Rapid swiss https://lichess.org/swiss/bg8h5n1g',\n",
       " 'Rapid swiss https://lichess.org/swiss/dheayhZc',\n",
       " 'Rapid swiss https://lichess.org/swiss/fG4ZS9L5',\n",
       " 'Rapid swiss https://lichess.org/swiss/jce7zZuP',\n",
       " 'Rapid swiss https://lichess.org/swiss/m4tjrnwX',\n",
       " 'Rapid swiss https://lichess.org/swiss/oU33kvNk',\n",
       " 'Rapid swiss https://lichess.org/swiss/pqkrEBAR',\n",
       " 'Rapid swiss https://lichess.org/swiss/r7VrptuS',\n",
       " 'Rapid swiss https://lichess.org/swiss/viNQgqiu',\n",
       " 'Rapid swiss https://lichess.org/swiss/zOOe2o7R',\n",
       " 'Rated Blitz game',\n",
       " 'Rated Blitz tournament https://lichess.org/tournament/1JYZqLJr',\n",
       " 'Rated Blitz tournament https://lichess.org/tournament/1V2RM1ot',\n",
       " 'Rated Blitz tournament https://lichess.org/tournament/1xykzmuU',\n",
       " 'Rated Blitz tournament https://lichess.org/tournament/2Go7dPVJ',\n",
       " 'Rated Blitz tournament https://lichess.org/tournament/2MgOYRQ7',\n",
       " 'Rated Blitz tournament https://lichess.org/tournament/4B8mq305',\n",
       " 'Rated Blitz tournament https://lichess.org/tournament/51NvMin4',\n",
       " 'Rated Blitz tournament https://lichess.org/tournament/6LKDaVvu',\n",
       " 'Rated Blitz tournament https://lichess.org/tournament/6c3e8tz8',\n",
       " 'Rated Blitz tournament https://lichess.org/tournament/70c60UuX',\n",
       " 'Rated Blitz tournament https://lichess.org/tournament/7OoNymAa',\n",
       " 'Rated Blitz tournament https://lichess.org/tournament/972wsquq',\n",
       " 'Rated Blitz tournament https://lichess.org/tournament/A43TRNcO',\n",
       " 'Rated Blitz tournament https://lichess.org/tournament/AfdX2e7G',\n",
       " 'Rated Blitz tournament https://lichess.org/tournament/COhtniuy',\n",
       " 'Rated Blitz tournament https://lichess.org/tournament/Cqdrr6jU',\n",
       " 'Rated Blitz tournament https://lichess.org/tournament/Dw2E6vOk',\n",
       " 'Rated Blitz tournament https://lichess.org/tournament/EBVWpNzj',\n",
       " 'Rated Blitz tournament https://lichess.org/tournament/EDG2eAwc',\n",
       " 'Rated Blitz tournament https://lichess.org/tournament/FNO6hpKC',\n",
       " 'Rated Blitz tournament https://lichess.org/tournament/HQdYlfFZ',\n",
       " 'Rated Blitz tournament https://lichess.org/tournament/HeJZW7jt',\n",
       " 'Rated Blitz tournament https://lichess.org/tournament/Hxoh4HA4',\n",
       " 'Rated Blitz tournament https://lichess.org/tournament/JJRyAkzt',\n",
       " 'Rated Blitz tournament https://lichess.org/tournament/KExcuQVD',\n",
       " 'Rated Blitz tournament https://lichess.org/tournament/KidROHNq',\n",
       " 'Rated Blitz tournament https://lichess.org/tournament/LARBtC4g',\n",
       " 'Rated Blitz tournament https://lichess.org/tournament/LIVuxgwe',\n",
       " 'Rated Blitz tournament https://lichess.org/tournament/LdR44LMb',\n",
       " 'Rated Blitz tournament https://lichess.org/tournament/N65Xa7Rk',\n",
       " 'Rated Blitz tournament https://lichess.org/tournament/NVTGSfXp',\n",
       " 'Rated Blitz tournament https://lichess.org/tournament/Oo16pq4O',\n",
       " 'Rated Blitz tournament https://lichess.org/tournament/Ouj6166Q',\n",
       " 'Rated Blitz tournament https://lichess.org/tournament/PHFHjPOb',\n",
       " 'Rated Blitz tournament https://lichess.org/tournament/Q1gvriBf',\n",
       " 'Rated Blitz tournament https://lichess.org/tournament/QX9gvPFi',\n",
       " 'Rated Blitz tournament https://lichess.org/tournament/RHej3EEf',\n",
       " 'Rated Blitz tournament https://lichess.org/tournament/SSdaJPG1',\n",
       " 'Rated Blitz tournament https://lichess.org/tournament/SYKMPiJg',\n",
       " 'Rated Blitz tournament https://lichess.org/tournament/SvakLe34',\n",
       " 'Rated Blitz tournament https://lichess.org/tournament/TrejdZEW',\n",
       " 'Rated Blitz tournament https://lichess.org/tournament/Uer64JCQ',\n",
       " 'Rated Blitz tournament https://lichess.org/tournament/Uli0aK25',\n",
       " 'Rated Blitz tournament https://lichess.org/tournament/UwpnKf6Q',\n",
       " 'Rated Blitz tournament https://lichess.org/tournament/VRjkYffE',\n",
       " 'Rated Blitz tournament https://lichess.org/tournament/VZOJTr8A',\n",
       " 'Rated Blitz tournament https://lichess.org/tournament/WBCe1o55',\n",
       " 'Rated Blitz tournament https://lichess.org/tournament/WHw5rdyG',\n",
       " 'Rated Blitz tournament https://lichess.org/tournament/XGhc215V',\n",
       " 'Rated Blitz tournament https://lichess.org/tournament/Xezo6eff',\n",
       " 'Rated Blitz tournament https://lichess.org/tournament/XgUd66rK',\n",
       " 'Rated Blitz tournament https://lichess.org/tournament/XkovgCOE',\n",
       " 'Rated Blitz tournament https://lichess.org/tournament/Y18wrHKy',\n",
       " 'Rated Blitz tournament https://lichess.org/tournament/YQPUftuk',\n",
       " 'Rated Blitz tournament https://lichess.org/tournament/ZEGPPVKo',\n",
       " 'Rated Blitz tournament https://lichess.org/tournament/a3MioeK2',\n",
       " 'Rated Blitz tournament https://lichess.org/tournament/aGerSB9k',\n",
       " 'Rated Blitz tournament https://lichess.org/tournament/aZGcAhFF',\n",
       " 'Rated Blitz tournament https://lichess.org/tournament/by6sykHI',\n",
       " 'Rated Blitz tournament https://lichess.org/tournament/cLIqgc1I',\n",
       " 'Rated Blitz tournament https://lichess.org/tournament/cQLMeiuA',\n",
       " 'Rated Blitz tournament https://lichess.org/tournament/cX5vMcDv',\n",
       " 'Rated Blitz tournament https://lichess.org/tournament/cnM15YLf',\n",
       " 'Rated Blitz tournament https://lichess.org/tournament/eTDugoEX',\n",
       " 'Rated Blitz tournament https://lichess.org/tournament/f4mr2VWX',\n",
       " 'Rated Blitz tournament https://lichess.org/tournament/gUWFuzGy',\n",
       " 'Rated Blitz tournament https://lichess.org/tournament/gxAYGoeU',\n",
       " 'Rated Blitz tournament https://lichess.org/tournament/hAU0FuqR',\n",
       " 'Rated Blitz tournament https://lichess.org/tournament/i1Coo4uB',\n",
       " 'Rated Blitz tournament https://lichess.org/tournament/jHN8hCjd',\n",
       " 'Rated Blitz tournament https://lichess.org/tournament/jlbI8M0q',\n",
       " 'Rated Blitz tournament https://lichess.org/tournament/ju3rKZ65',\n",
       " 'Rated Blitz tournament https://lichess.org/tournament/kOXNpxTy',\n",
       " 'Rated Blitz tournament https://lichess.org/tournament/lJpbuI2D',\n",
       " 'Rated Blitz tournament https://lichess.org/tournament/nfMaRfS4',\n",
       " 'Rated Blitz tournament https://lichess.org/tournament/nigw7rRy',\n",
       " 'Rated Blitz tournament https://lichess.org/tournament/o1aTpqyc',\n",
       " 'Rated Blitz tournament https://lichess.org/tournament/oYqmhksj',\n",
       " 'Rated Blitz tournament https://lichess.org/tournament/p91xwKnp',\n",
       " 'Rated Blitz tournament https://lichess.org/tournament/qYfJMerC',\n",
       " 'Rated Blitz tournament https://lichess.org/tournament/s6EHcbfO',\n",
       " 'Rated Blitz tournament https://lichess.org/tournament/tlABuzdE',\n",
       " 'Rated Blitz tournament https://lichess.org/tournament/u1aFaep5',\n",
       " 'Rated Blitz tournament https://lichess.org/tournament/u8zQBk9k',\n",
       " 'Rated Blitz tournament https://lichess.org/tournament/vLnfi9NS',\n",
       " 'Rated Blitz tournament https://lichess.org/tournament/w2BVD2nZ',\n",
       " 'Rated Blitz tournament https://lichess.org/tournament/wwdfNU6y',\n",
       " 'Rated Blitz tournament https://lichess.org/tournament/xA1DeNnk',\n",
       " 'Rated Blitz tournament https://lichess.org/tournament/xLEqfDHy',\n",
       " 'Rated Blitz tournament https://lichess.org/tournament/xtp4aV7R',\n",
       " 'Rated Bullet game',\n",
       " 'Rated Bullet tournament https://lichess.org/tournament/20jbnGzL',\n",
       " 'Rated Bullet tournament https://lichess.org/tournament/6NLhSsQI',\n",
       " 'Rated Bullet tournament https://lichess.org/tournament/EhqggV8C',\n",
       " 'Rated Bullet tournament https://lichess.org/tournament/GuOcqabi',\n",
       " 'Rated Bullet tournament https://lichess.org/tournament/J00QtF5w',\n",
       " 'Rated Bullet tournament https://lichess.org/tournament/JCu0kdxi',\n",
       " 'Rated Bullet tournament https://lichess.org/tournament/MSK04h4U',\n",
       " 'Rated Bullet tournament https://lichess.org/tournament/P5k6QSat',\n",
       " 'Rated Bullet tournament https://lichess.org/tournament/YwYR1o5z',\n",
       " 'Rated Bullet tournament https://lichess.org/tournament/hT09eYA3',\n",
       " 'Rated Bullet tournament https://lichess.org/tournament/jfIQbk5Q',\n",
       " 'Rated Bullet tournament https://lichess.org/tournament/k8AsOuAG',\n",
       " 'Rated Bullet tournament https://lichess.org/tournament/kGX2xMrL',\n",
       " 'Rated Bullet tournament https://lichess.org/tournament/lyxJoBPd',\n",
       " 'Rated Bullet tournament https://lichess.org/tournament/m1BbzAcB',\n",
       " 'Rated Bullet tournament https://lichess.org/tournament/mhEveDxz',\n",
       " 'Rated Bullet tournament https://lichess.org/tournament/qEbNxuDp',\n",
       " 'Rated Bullet tournament https://lichess.org/tournament/qtnHeN8A',\n",
       " 'Rated Bullet tournament https://lichess.org/tournament/rmzu2Xlk',\n",
       " 'Rated Bullet tournament https://lichess.org/tournament/sws6WETz',\n",
       " 'Rated Bullet tournament https://lichess.org/tournament/wjaoGwhc',\n",
       " 'Rated Classical game',\n",
       " 'Rated Correspondence game',\n",
       " 'Rated Rapid game',\n",
       " 'Rated Rapid tournament https://lichess.org/tournament/16slLMDx',\n",
       " 'Rated Rapid tournament https://lichess.org/tournament/2VrYkNL4',\n",
       " 'Rated Rapid tournament https://lichess.org/tournament/3tnRwJGP',\n",
       " 'Rated Rapid tournament https://lichess.org/tournament/4hJIaZro',\n",
       " 'Rated Rapid tournament https://lichess.org/tournament/4zmjKK8S',\n",
       " 'Rated Rapid tournament https://lichess.org/tournament/7RdpEquI',\n",
       " 'Rated Rapid tournament https://lichess.org/tournament/9kH94Ppr',\n",
       " 'Rated Rapid tournament https://lichess.org/tournament/B5oKjmHa',\n",
       " 'Rated Rapid tournament https://lichess.org/tournament/Cl1eN8Y5',\n",
       " 'Rated Rapid tournament https://lichess.org/tournament/DmBSs0W2',\n",
       " 'Rated Rapid tournament https://lichess.org/tournament/Gs4mjhQx',\n",
       " 'Rated Rapid tournament https://lichess.org/tournament/I8KXK4GI',\n",
       " 'Rated Rapid tournament https://lichess.org/tournament/KR5HRxcW',\n",
       " 'Rated Rapid tournament https://lichess.org/tournament/KSvKXeN9',\n",
       " 'Rated Rapid tournament https://lichess.org/tournament/L9deOVWx',\n",
       " 'Rated Rapid tournament https://lichess.org/tournament/LTIisOD5',\n",
       " 'Rated Rapid tournament https://lichess.org/tournament/NjjTPd5a',\n",
       " 'Rated Rapid tournament https://lichess.org/tournament/NxFrNw80',\n",
       " 'Rated Rapid tournament https://lichess.org/tournament/OyO4WbfS',\n",
       " 'Rated Rapid tournament https://lichess.org/tournament/PgKuHW6C',\n",
       " 'Rated Rapid tournament https://lichess.org/tournament/QKCbBMqf',\n",
       " 'Rated Rapid tournament https://lichess.org/tournament/QdwIJFnh',\n",
       " 'Rated Rapid tournament https://lichess.org/tournament/RTA7p9Ul',\n",
       " 'Rated Rapid tournament https://lichess.org/tournament/TPPZTLvd',\n",
       " 'Rated Rapid tournament https://lichess.org/tournament/Tsk87sWP',\n",
       " 'Rated Rapid tournament https://lichess.org/tournament/UUYtJZSW',\n",
       " 'Rated Rapid tournament https://lichess.org/tournament/WNuN1FXu',\n",
       " 'Rated Rapid tournament https://lichess.org/tournament/Yz38mX0j',\n",
       " 'Rated Rapid tournament https://lichess.org/tournament/aCKHvWeQ',\n",
       " 'Rated Rapid tournament https://lichess.org/tournament/bwqLAtCq',\n",
       " 'Rated Rapid tournament https://lichess.org/tournament/cSXwP2No',\n",
       " 'Rated Rapid tournament https://lichess.org/tournament/d6pSQXS5',\n",
       " 'Rated Rapid tournament https://lichess.org/tournament/dZLqqY1X',\n",
       " 'Rated Rapid tournament https://lichess.org/tournament/ddAmBtlo',\n",
       " 'Rated Rapid tournament https://lichess.org/tournament/dqoWa6jK',\n",
       " 'Rated Rapid tournament https://lichess.org/tournament/f3n3vuU8',\n",
       " 'Rated Rapid tournament https://lichess.org/tournament/hsYSd83V',\n",
       " 'Rated Rapid tournament https://lichess.org/tournament/j6MK7Zp1',\n",
       " 'Rated Rapid tournament https://lichess.org/tournament/jO4axBty',\n",
       " 'Rated Rapid tournament https://lichess.org/tournament/l8XJO4jQ',\n",
       " 'Rated Rapid tournament https://lichess.org/tournament/lT0JZBzv',\n",
       " 'Rated Rapid tournament https://lichess.org/tournament/mHuhxfHr',\n",
       " 'Rated Rapid tournament https://lichess.org/tournament/meSM3aDh',\n",
       " 'Rated Rapid tournament https://lichess.org/tournament/nugclztA',\n",
       " 'Rated Rapid tournament https://lichess.org/tournament/oGSn3czY',\n",
       " 'Rated Rapid tournament https://lichess.org/tournament/pENKlpFW',\n",
       " 'Rated Rapid tournament https://lichess.org/tournament/rnzbVHwC',\n",
       " 'Rated Rapid tournament https://lichess.org/tournament/ryRzPtUG',\n",
       " 'Rated Rapid tournament https://lichess.org/tournament/ryYnPjwB',\n",
       " 'Rated Rapid tournament https://lichess.org/tournament/sPmiLjbe',\n",
       " 'Rated Rapid tournament https://lichess.org/tournament/snJtbcqA',\n",
       " 'Rated Rapid tournament https://lichess.org/tournament/t7sgh09s',\n",
       " 'Rated Rapid tournament https://lichess.org/tournament/u81FcAOV',\n",
       " 'Rated Rapid tournament https://lichess.org/tournament/vZn6rl7k',\n",
       " 'Rated Rapid tournament https://lichess.org/tournament/w2tC3J1P',\n",
       " 'Rated Rapid tournament https://lichess.org/tournament/wFg6PY9p',\n",
       " 'Rated Rapid tournament https://lichess.org/tournament/xHL1ydQ1',\n",
       " 'Rated Rapid tournament https://lichess.org/tournament/ycQz8QPL',\n",
       " 'Rated Rapid tournament https://lichess.org/tournament/yzgnFbXj',\n",
       " 'Rated UltraBullet game',\n",
       " 'Rated UltraBullet tournament https://lichess.org/tournament/1z2zXKqi',\n",
       " 'Rated UltraBullet tournament https://lichess.org/tournament/QmvaCpjY',\n",
       " 'Rated UltraBullet tournament https://lichess.org/tournament/gY60EHxD'}"
      ]
     },
     "execution_count": 51,
     "metadata": {},
     "output_type": "execute_result"
    }
   ],
   "source": [
    "events = set()\n",
    "with open(pgn_file, encoding=\"utf-8\", errors=\"replace\") as f:\n",
    "    i=0\n",
    "    while True:\n",
    "        game = chess.pgn.read_game(f)\n",
    "        if game is None:\n",
    "            break\n",
    "        events.add(game.headers.get(\"Event\"))\n",
    "        i += 1\n",
    "        if i > 100000:\n",
    "            break\n",
    "events"
   ]
  },
  {
   "cell_type": "code",
   "execution_count": 52,
   "id": "4fe13080",
   "metadata": {},
   "outputs": [
    {
     "data": {
      "text/plain": [
       "220"
      ]
     },
     "execution_count": 52,
     "metadata": {},
     "output_type": "execute_result"
    }
   ],
   "source": [
    "len(events)"
   ]
  },
  {
   "cell_type": "code",
   "execution_count": 5,
   "id": "31654499",
   "metadata": {},
   "outputs": [],
   "source": [
    "def discover_offsets(path, encoding=\"utf-8\", show_progress=True):\n",
    "    import os\n",
    "    from tqdm.auto import tqdm\n",
    "    offsets = []\n",
    "    total = os.path.getsize(path)\n",
    "    with open(path, \"r\", encoding=encoding, errors=\"replace\") as f:\n",
    "        pbar = tqdm(total=total, unit=\"B\", unit_scale=True, disable=not show_progress)\n",
    "        while True:\n",
    "            start = f.tell()\n",
    "            headers = chess.pgn.read_headers(f)  # consumes a whole game\n",
    "            end = f.tell()\n",
    "            if headers is None:\n",
    "                break\n",
    "            offsets.append(start)\n",
    "            pbar.update(end - start)\n",
    "        pbar.update(total - pbar.n)  # finish if needed\n",
    "        pbar.close()\n",
    "    return offsets"
   ]
  },
  {
   "cell_type": "code",
   "execution_count": 6,
   "id": "211953fd",
   "metadata": {},
   "outputs": [
    {
     "data": {
      "application/vnd.jupyter.widget-view+json": {
       "model_id": "81432414a2154577bfe94da90cdd3260",
       "version_major": 2,
       "version_minor": 0
      },
      "text/plain": [
       "  0%|          | 0.00/216G [00:00<?, ?B/s]"
      ]
     },
     "metadata": {},
     "output_type": "display_data"
    },
    {
     "data": {
      "text/plain": [
       "92695519"
      ]
     },
     "execution_count": 6,
     "metadata": {},
     "output_type": "execute_result"
    }
   ],
   "source": [
    "offsets = discover_offsets(pgn_file)\n",
    "len(offsets)"
   ]
  },
  {
   "cell_type": "code",
   "execution_count": null,
   "id": "9f64bfb5",
   "metadata": {},
   "outputs": [],
   "source": [
    "import numpy as np\n",
    "\n",
    "def save_offsets_npy(path, offsets):\n",
    "    np.save(path, np.asarray(offsets, dtype=np.uint64))\n",
    "\n",
    "def load_offsets_npy(path):\n",
    "    return np.load(path).tolist()"
   ]
  },
  {
   "cell_type": "code",
   "execution_count": null,
   "id": "42a70688",
   "metadata": {},
   "outputs": [],
   "source": [
    "save_offsets_npy(\"/home/vandy/Work/MATH6310/blunder-analysis/data/raw/dataoffsets.npy\", offsets)"
   ]
  },
  {
   "cell_type": "code",
   "execution_count": 1,
   "id": "c7b1bad0",
   "metadata": {},
   "outputs": [
    {
     "data": {
      "text/plain": [
       "92695519"
      ]
     },
     "execution_count": 1,
     "metadata": {},
     "output_type": "execute_result"
    }
   ],
   "source": [
    "import numpy as np, os\n",
    "\n",
    "idx_path = \"/home/vandy/Work/MATH6310/blunder-analysis/data/raw/lichess_db_standard_rated_2025-08.idx\"\n",
    "mm = np.memmap(idx_path, dtype=np.int64, mode=\"r\")\n",
    "\n",
    "len(mm)"
   ]
  },
  {
   "cell_type": "code",
   "execution_count": 2,
   "id": "368a172c",
   "metadata": {},
   "outputs": [
    {
     "data": {
      "text/plain": [
       "92695519"
      ]
     },
     "execution_count": 2,
     "metadata": {},
     "output_type": "execute_result"
    }
   ],
   "source": [
    "diff = np.diff(mm, prepend=mm[0]-1)\n",
    "invalid = np.nonzero(diff <= 0)[0]\n",
    "valid_count = int(invalid[0]) if invalid.size else mm.size\n",
    "valid_count"
   ]
  },
  {
   "cell_type": "code",
   "execution_count": 7,
   "id": "742c9266",
   "metadata": {},
   "outputs": [],
   "source": [
    "del mm  # close the mapping\n",
    "os.truncate(idx_path, valid_count * np.dtype(np.int64).itemsize)"
   ]
  }
 ],
 "metadata": {
  "kernelspec": {
   "display_name": "blunder-analysis",
   "language": "python",
   "name": "python3"
  },
  "language_info": {
   "codemirror_mode": {
    "name": "ipython",
    "version": 3
   },
   "file_extension": ".py",
   "mimetype": "text/x-python",
   "name": "python",
   "nbconvert_exporter": "python",
   "pygments_lexer": "ipython3",
   "version": "3.13.7"
  }
 },
 "nbformat": 4,
 "nbformat_minor": 5
}
